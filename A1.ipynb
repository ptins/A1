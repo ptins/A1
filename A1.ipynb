{
 "cells": [
  {
   "cell_type": "code",
   "execution_count": 1,
   "metadata": {},
   "outputs": [],
   "source": [
    "# keys/tokens/secrets\n",
    "consumer_key = '6FTGkkHr6qIv6drlW531oLWZH'\n",
    "consumer_secret = '6e3lSCAwy2DZQawH6N7ttTyiHbFUMuJs9GYHTHfKd2mydS2xZB'\n",
    "access_token = '1959972582-DfvT6r2zpKLs4BSRd4KSYfxUycGvpinzXMsGcRm'\n",
    "access_token_secret = 'pCzDlv6AhzK5L8cTUMIVAmRjdVxkOWYzyE1qPUjn2Xch6'"
   ]
  },
  {
   "cell_type": "code",
   "execution_count": 2,
   "metadata": {},
   "outputs": [],
   "source": [
    "# tweepy setup \n",
    "# !pip3 install tweepy\n",
    "import tweepy"
   ]
  },
  {
   "cell_type": "code",
   "execution_count": 3,
   "metadata": {},
   "outputs": [],
   "source": [
    "# oauth setup\n",
    "auth = tweepy.OAuthHandler(consumer_key, consumer_secret)\n",
    "auth.set_access_token(access_token, access_token_secret)\n",
    "api = tweepy.API(auth)"
   ]
  },
  {
   "cell_type": "code",
   "execution_count": 4,
   "metadata": {},
   "outputs": [],
   "source": [
    "# save IDs we care about\n",
    "user_ids = [34373370, 26257166, 12579252]"
   ]
  },
  {
   "cell_type": "markdown",
   "metadata": {},
   "source": [
    "# Task 1"
   ]
  },
  {
   "cell_type": "code",
   "execution_count": 5,
   "metadata": {},
   "outputs": [],
   "source": [
    "def write_profile_information(user):\n",
    "    f = open('profile_information.txt','a')\n",
    "    f.write('Screen Name: {}\\n'.format(user.screen_name))\n",
    "    f.write('User Name: {}\\n'.format(user.name))\n",
    "    f.write('User Location: {}\\n'.format(user.location))\n",
    "    f.write('User Description: {}\\n'.format(user.description))\n",
    "    f.write('Number of Followers: {}\\n'.format(user.followers_count))\n",
    "    f.write('Number of Friends: {}\\n'.format(user.friends_count))\n",
    "    f.write('Number of Statuses: {}\\n'.format(user.statuses_count))\n",
    "    f.write('User URL: {}\\n'.format(user.url))\n",
    "    f.write('-----\\n')\n",
    "    f.close()"
   ]
  },
  {
   "cell_type": "code",
   "execution_count": 6,
   "metadata": {
    "scrolled": true
   },
   "outputs": [],
   "source": [
    "# [write_profile_information(user) for user in api.lookup_users(user_ids)]"
   ]
  },
  {
   "cell_type": "markdown",
   "metadata": {},
   "source": [
    "# Task 2"
   ]
  },
  {
   "cell_type": "code",
   "execution_count": 7,
   "metadata": {},
   "outputs": [],
   "source": [
    "def write_social_information(user):\n",
    "    friends = user.friends()\n",
    "    followers = user.followers()\n",
    "    f = open('social_information.txt','a')\n",
    "    f.write('Friend List ({}):\\n{}\\n'.format(user.screen_name,[friend.screen_name for friend in friends]))\n",
    "    f.write('Follower List ({}):\\n{}\\n'.format(user.screen_name,[follower.screen_name for follower in followers]))\n",
    "    f.write('-----\\n')\n",
    "    f.close()"
   ]
  },
  {
   "cell_type": "code",
   "execution_count": 8,
   "metadata": {},
   "outputs": [
    {
     "data": {
      "text/plain": [
       "[None, None, None]"
      ]
     },
     "execution_count": 8,
     "metadata": {},
     "output_type": "execute_result"
    }
   ],
   "source": [
    "# [write_social_information(user) for user in api.lookup_users(user_ids)]"
   ]
  },
  {
   "cell_type": "markdown",
   "metadata": {},
   "source": [
    "# Task 3"
   ]
  },
  {
   "cell_type": "code",
   "execution_count": 9,
   "metadata": {},
   "outputs": [],
   "source": [
    "class StreamListener(tweepy.StreamListener):\n",
    "    \n",
    "    def __init__(self):\n",
    "        self.num_tweets = 0\n",
    "        open('tweets.txt', 'w').close()\n",
    "        super(StreamListener, self).__init__()        \n",
    "    \n",
    "    def on_status(self, status):        \n",
    "        if self.num_tweets < 50:\n",
    "            print('{} -- {}'.format(self.num_tweets, status.text))\n",
    "            with open('tweets.txt', 'a') as tf:\n",
    "                tf.write(status.text)\n",
    "                tf.write('\\n')\n",
    "                self.num_tweets += 1\n",
    "            return True\n",
    "        else:\n",
    "            return False\n",
    "            \n",
    "    def on_error(self, status_code):\n",
    "        if status_code == 420:\n",
    "            return False"
   ]
  },
  {
   "cell_type": "code",
   "execution_count": 10,
   "metadata": {},
   "outputs": [],
   "source": [
    "stream_listener = StreamListener()\n",
    "stream = tweepy.Stream(auth=api.auth, listener=stream_listener)"
   ]
  },
  {
   "cell_type": "code",
   "execution_count": 11,
   "metadata": {},
   "outputs": [],
   "source": [
    "keywords = ['Indiana', 'weather']\n",
    "latlong = [-86.33,41.63,-86.20,41.74] # corresponds to South Bend region"
   ]
  },
  {
   "cell_type": "code",
   "execution_count": 12,
   "metadata": {},
   "outputs": [],
   "source": [
    "# (1) collect tweets that contain one of the following two keywords: [Indiana, weather] \n",
    "# stream.filter(track=keywords, async=True)\n",
    "\n",
    "# (2) collect tweets that originate from the geographic region around South Bend\n",
    "# stream.filter(locations=latlong, async=True)"
   ]
  }
 ],
 "metadata": {
  "kernelspec": {
   "display_name": "Python 3",
   "language": "python",
   "name": "python3"
  },
  "language_info": {
   "codemirror_mode": {
    "name": "ipython",
    "version": 3
   },
   "file_extension": ".py",
   "mimetype": "text/x-python",
   "name": "python",
   "nbconvert_exporter": "python",
   "pygments_lexer": "ipython3",
   "version": "3.6.4"
  }
 },
 "nbformat": 4,
 "nbformat_minor": 2
}
